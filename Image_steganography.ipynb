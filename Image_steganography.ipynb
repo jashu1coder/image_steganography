{
 "cells": [
  {
   "cell_type": "code",
   "execution_count": 4,
   "id": "c62ffd58-ecfe-43ea-807a-de7f56d10eaa",
   "metadata": {},
   "outputs": [
    {
     "name": "stdin",
     "output_type": "stream",
     "text": [
      "Enter 'h' to hide text or 'e' to extract text:  e\n",
      "Enter the path to the image:  C:\\Users\\jaswa\\output.png\n"
     ]
    },
    {
     "name": "stdout",
     "output_type": "stream",
     "text": [
      "Hidden text extracted:  hello hero\n"
     ]
    }
   ],
   "source": [
    "import cv2\n",
    "import os\n",
    "\n",
    "def text_to_binary(text):\n",
    "    return ''.join(format(ord(char), '08b') for char in text)\n",
    "\n",
    "def binary_to_text(binary):\n",
    "    binary_chunks = [binary[i:i+8] for i in range(0, len(binary), 8)]\n",
    "    text = ''.join(chr(int(chunk, 2)) for chunk in binary_chunks)\n",
    "    return text\n",
    "\n",
    "def hide_text_in_image(image_path, text, output_image_path):\n",
    "    # Load the image\n",
    "    image = cv2.imread(image_path)\n",
    "    if image is None:\n",
    "        print(f\"Failed to load image at {image_path}. The file may not be a valid image.\")\n",
    "        return\n",
    "    \n",
    "    binary_text = text_to_binary(text) + '1111111111111110'  # Delimiter to indicate end of text\n",
    "    data_index = 0\n",
    "    \n",
    "    for row in image:\n",
    "        for pixel in row:\n",
    "            for channel in range(3):  # Iterate over R, G, B channels\n",
    "                if data_index < len(binary_text):\n",
    "                    pixel[channel] = int(format(pixel[channel], '08b')[:-1] + binary_text[data_index], 2)\n",
    "                    data_index += 1\n",
    "    \n",
    "    cv2.imwrite(output_image_path, image)\n",
    "    os.startfile(output_image_path)\n",
    "    print(f\"Data Hiding in Image completed successfully and saved as {output_image_path}\")\n",
    "\n",
    "def extract_text_from_image(image_path):\n",
    "    # Load the image\n",
    "    image = cv2.imread(image_path)\n",
    "    if image is None:\n",
    "        print(f\"Failed to load image at {image_path}. The file may not be a valid image.\")\n",
    "        return\n",
    "    \n",
    "    binary_text = \"\"\n",
    "    for row in image:\n",
    "        for pixel in row:\n",
    "            for channel in range(3):  # Iterate over R, G, B channels\n",
    "                binary_text += format(pixel[channel], '08b')[-1]\n",
    "    \n",
    "    delimiter = '1111111111111110'\n",
    "    if delimiter in binary_text:\n",
    "        binary_text = binary_text[:binary_text.index(delimiter)]\n",
    "        text = binary_to_text(binary_text)\n",
    "        print(\"Hidden text extracted: \", text)\n",
    "    else:\n",
    "        print(\"No hidden text found.\")\n",
    "\n",
    "# Main function to choose hide or extract mode\n",
    "def main():\n",
    "    mode = input(\"Enter 'h' to hide text or 'e' to extract text: \").lower()\n",
    "    if mode == 'h':\n",
    "        image_path = input(\"Enter the path to the image: \")\n",
    "        text = input(\"Enter the text to hide: \")\n",
    "        output_image_path = \"output.png\"\n",
    "        hide_text_in_image(image_path, text, output_image_path)\n",
    "    elif mode == 'e':\n",
    "        image_path = input(\"Enter the path to the image: \")\n",
    "        extract_text_from_image(image_path)\n",
    "    else:\n",
    "        print(\"Invalid mode. Please enter 'h' or 'e'.\")\n",
    "\n",
    "# Run the main function\n",
    "main()\n"
   ]
  },
  {
   "cell_type": "code",
   "execution_count": null,
   "id": "3f8d0b4a-ae2e-4bdf-8eb0-b5cca1670928",
   "metadata": {},
   "outputs": [],
   "source": []
  },
  {
   "cell_type": "code",
   "execution_count": null,
   "id": "d4fa377c-8231-4c99-b4f9-0b26f2975b51",
   "metadata": {},
   "outputs": [],
   "source": []
  }
 ],
 "metadata": {
  "kernelspec": {
   "display_name": "Python 3 (ipykernel)",
   "language": "python",
   "name": "python3"
  },
  "language_info": {
   "codemirror_mode": {
    "name": "ipython",
    "version": 3
   },
   "file_extension": ".py",
   "mimetype": "text/x-python",
   "name": "python",
   "nbconvert_exporter": "python",
   "pygments_lexer": "ipython3",
   "version": "3.11.2"
  }
 },
 "nbformat": 4,
 "nbformat_minor": 5
}
